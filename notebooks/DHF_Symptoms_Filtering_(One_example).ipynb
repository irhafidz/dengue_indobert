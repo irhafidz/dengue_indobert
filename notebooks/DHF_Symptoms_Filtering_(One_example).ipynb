{
  "nbformat": 4,
  "nbformat_minor": 0,
  "metadata": {
    "colab": {
      "provenance": []
    },
    "kernelspec": {
      "name": "python3",
      "display_name": "Python 3"
    },
    "language_info": {
      "name": "python"
    }
  },
  "cells": [
    {
      "cell_type": "code",
      "source": [
        "import pandas as pd\n",
        "import re\n",
        "from collections import Counter\n",
        "import matplotlib.pyplot as plt\n",
        "import seaborn as sns\n",
        "from google.colab import files"
      ],
      "metadata": {
        "id": "PXsgnv176ad-"
      },
      "execution_count": null,
      "outputs": []
    },
    {
      "cell_type": "code",
      "source": [
        "# 1. BACA DATASET\n",
        "file_path = 'data_20250601_071248.xlsx'  # ganti sesuai path file Anda\n",
        "df = pd.read_excel(file_path)\n",
        "\n",
        "print(f\"Dataset loaded: {df.shape[0]} rows, {df.shape[1]} columns\")\n",
        "print(\"Kolom utama:\", df.columns.tolist())"
      ],
      "metadata": {
        "id": "bFBdw87g6b0n"
      },
      "execution_count": null,
      "outputs": []
    },
    {
      "cell_type": "code",
      "source": [
        "# 2. DAFTAR SYMPTOMS (gejala) - sudah distandardisasi ke lowercase tanpa spasi/punctuation\n",
        "symptoms_raw = [\n",
        "    \"mual\",\n",
        "    \"muntah\",\n",
        "    \"muntah terus-menerus\",\n",
        "\t\"muntah terus\",\n",
        "    \"ruam\",\n",
        "    \"ruam merah\",\n",
        "    \"ruam kulit\",\n",
        "    \"sakit kepala\",\n",
        "    \"sakit kepala parah\",\n",
        "    \"pusing\",\n",
        "    \"demam\",\n",
        "    \"demam tinggi\",\n",
        "    \"nyeri perut\",\n",
        "    \"nyeri tekan perut\",\n",
        "    \"nyeri sendi\",\n",
        "    \"nyeri otot\",\n",
        "    \"nyeri badan\",\n",
        "    \"nyeri mata\",\n",
        "    \"nyeri di belakang mata\",\n",
        "    \"leukopenia\",\n",
        "    \"penurunan jumlah trombosit\",\n",
        "    \"trombosit turun\",\n",
        "    \"trombosit drop\",\n",
        "    \"trombo drop\",\n",
        "    \"trombosit\",\n",
        "    \"trombosit kritis\",\n",
        "    \"perdarahan mukosa\",\n",
        "    \"mimisan\",\n",
        "    \"perdarahan gusi\",\n",
        "\t\"pendarahan gusi\",\n",
        "    \"perdarahan ringan\",\n",
        "\t\"pendarahan ringan\",\n",
        "    \"perdarahan kulit\",\n",
        "\t\"pendarahan kulit\",\n",
        "    \"perdarahan saluran cerna\",\n",
        "\t\"pendarahan saluran cerna\",\n",
        "    \"kelesuan\",\n",
        "    \"lesu\",\n",
        "    \"lemas\",\n",
        "    \"lemes\",\n",
        "    \"gelisah\",\n",
        "    \"reaksi hipersensitivitas\",\n",
        "    \"inflamasi\",\n",
        "    \"demam tanpa gejala lain\",\n",
        "    \"dehidrasi\",\n",
        "    \"sakit tenggorokan\",\n",
        "    \"pilek\",\n",
        "    \"flu\",\n",
        "    \"pembengkakan kelenjar getah bening\",\n",
        "    \"syok\",\n",
        "    \"shock\",\n",
        "    \"sesak napas\",\n",
        "    \"gangguan kesadaran\",\n",
        "    \"pingsan\",\n",
        "    \"akumulasi cairan klinis\",\n",
        "    \"efusi pleura\",\n",
        "    \"asites\",\n",
        "    \"penebalan dinding kandung empedu\",\n",
        "    \"hepatomegali\",\n",
        "    \"peningkatan hematokrit\",\n",
        "    \"peningkatan AST\",\n",
        "    \"peningkatan ALT\"\n",
        "]\n",
        "\n",
        "# Fungsi untuk normalisasi string: lowercase, hapus tanda baca dan spasi\n",
        "def normalize_text(text):\n",
        "    text = text.lower()\n",
        "    text = re.sub(r'[^a-z0-9]', '', text)  # hanya huruf dan angka\n",
        "    return text\n",
        "\n",
        "# Normalisasi symptoms list\n",
        "symptoms = [normalize_text(s) for s in symptoms_raw]\n",
        "symptoms = list(set(symptoms))  # hilangkan duplikat\n",
        "\n",
        "print(f\"Jumlah gejala setelah normalisasi: {len(symptoms)}\")"
      ],
      "metadata": {
        "id": "Lh2UDd3F6e8C"
      },
      "execution_count": null,
      "outputs": []
    },
    {
      "cell_type": "code",
      "source": [
        "# 3. FUNGSI UNTUK CEK KANDUNGAN SYMPTOMS DALAM TEKS\n",
        "def contains_symptom(text):\n",
        "    if pd.isna(text) or text == '':\n",
        "        return False\n",
        "    text_norm = normalize_text(text)\n",
        "    for symptom in symptoms:\n",
        "        if symptom in text_norm:\n",
        "            return True\n",
        "    return False"
      ],
      "metadata": {
        "id": "kjRzRz1j6hX_"
      },
      "execution_count": null,
      "outputs": []
    },
    {
      "cell_type": "code",
      "source": [
        "# 4. FILTER DATA BERDASARKAN SYMPTOMS DI KOLOM text_cleaned_lower\n",
        "df['has_symptom'] = df['text_cleaned_lower'].apply(contains_symptom)\n",
        "\n",
        "filtered_df = df[df['has_symptom']].copy()\n",
        "non_symptom_df = df[~df['has_symptom']].copy()  # Dataframe untuk non-symptom\n",
        "print(f\"Jumlah tweet yang mengandung gejala: {filtered_df.shape[0]} dari {df.shape[0]} total\")\n",
        "print(f\"Jumlah tweet yang tidak mengandung gejala: {non_symptom_df.shape[0]} dari {df.shape[0]} total\")\n"
      ],
      "metadata": {
        "id": "nIaa5kpM6kL7"
      },
      "execution_count": null,
      "outputs": []
    },
    {
      "cell_type": "code",
      "source": [
        "# 5. ANALISIS FREKUENSI SYMPTOMS DALAM DATA TERFILTER (hanya untuk yang ada gejala)\n",
        "def extract_symptoms(text):\n",
        "    if pd.isna(text) or text == '':\n",
        "        return []\n",
        "    text_norm = normalize_text(text)\n",
        "    found = []\n",
        "    for symptom in symptoms:\n",
        "        if symptom in text_norm:\n",
        "            found.append(symptom)\n",
        "    return found\n",
        "\n",
        "filtered_df['symptoms_found'] = filtered_df['text_cleaned_lower'].apply(extract_symptoms)\n",
        "\n",
        "# Flatten list semua symptoms yang ditemukan\n",
        "all_found_symptoms = [sym for sublist in filtered_df['symptoms_found'] for sym in sublist]\n",
        "\n",
        "symptom_counts = Counter(all_found_symptoms)\n",
        "symptom_counts = symptom_counts.most_common()\n",
        "\n",
        "print(\"\\nTop 20 gejala yang paling sering muncul:\")\n",
        "for sym, cnt in symptom_counts[:20]:\n",
        "    print(f\"- {sym}: {cnt} kali\")"
      ],
      "metadata": {
        "id": "gEjwLJx56msn"
      },
      "execution_count": null,
      "outputs": []
    },
    {
      "cell_type": "code",
      "source": [
        "# 6. VISUALISASI TOP SYMPTOMS\n",
        "top_n = 20\n",
        "top_symptoms = symptom_counts[:top_n]\n",
        "labels, counts = zip(*top_symptoms)\n",
        "\n",
        "plt.figure(figsize=(12,6))\n",
        "sns.barplot(x=list(counts), y=list(labels), palette='mako')\n",
        "plt.title(f\"Top {top_n} Gejala DBD yang Paling Sering Muncul di Tweet\")\n",
        "plt.xlabel(\"Frekuensi\")\n",
        "plt.ylabel(\"Gejala (normalisasi)\")\n",
        "plt.tight_layout()\n",
        "plt.show()\n",
        "\n",
        "# 7. TAMPILKAN CONTOH TWEET DENGAN SYMPTOMS\n",
        "print(\"\\nContoh tweet yang mengandung gejala:\")\n",
        "for i, row in filtered_df.head(5).iterrows():\n",
        "    print(f\"\\nTweet ke-{i}:\")\n",
        "    print(f\"Text (cleaned_lower): {row['text_cleaned_lower']}\")\n",
        "    print(f\"Gejala ditemukan: {row['symptoms_found']}\")\n",
        "\n",
        "# 8. SIMPAN HASIL FILTER KE FILE BARU (dengan dan tanpa gejala)\n",
        "output_file_symptom = 'filtered_tweets_with_symptoms_1Juni2025.xlsx'\n",
        "filtered_df.to_excel(output_file_symptom, index=False)\n",
        "print(f\"\\nData hasil filter gejala disimpan ke file: {output_file_symptom}\")\n",
        "\n",
        "output_file_non_symptom = 'filtered_tweets_without_symptoms.xlsx'\n",
        "non_symptom_df.to_excel(output_file_non_symptom, index=False)\n",
        "print(f\"Data hasil filter tanpa gejala disimpan ke file: {output_file_non_symptom}\")\n",
        "\n",
        "# Download kedua file\n",
        "files.download(output_file_symptom)\n",
        "files.download(output_file_non_symptom)\n"
      ],
      "metadata": {
        "colab": {
          "base_uri": "https://localhost:8080/",
          "height": 1000
        },
        "id": "3Qhqio0y43zG",
        "outputId": "a58c392e-5ca9-4697-a07b-0cf039f87a6a"
      },
      "execution_count": null,
      "outputs": [
        {
          "output_type": "stream",
          "name": "stdout",
          "text": [
            "Dataset loaded: 2480 rows, 28 columns\n",
            "Kolom utama: ['Name', 'Handle', 'Timestamp', 'Verified', 'text', 'Comments', 'Retweets', 'Likes', 'Analytics', 'Tags', 'Mentions', 'Emojis', 'Profile Image', 'Tweet Link', 'Tweet ID', 'language', 'text_cleaned', 'text_cleaned_lower', 'text_cleaned_lower_length', 'cleaned_lower_tokens', 'token_count', 'cleaned_lower_tokens_no_stop', 'token_count_before_stop', 'token_count_after_stop', 'text_clean_final', 'text_stemmed', 'clean_length', 'stemmed_length']\n",
            "Jumlah gejala setelah normalisasi: 62\n",
            "Jumlah tweet yang mengandung gejala: 906 dari 2480 total\n",
            "Jumlah tweet yang tidak mengandung gejala: 1574 dari 2480 total\n",
            "\n",
            "Top 20 gejala yang paling sering muncul:\n",
            "- demam: 446 kali\n",
            "- trombosit: 224 kali\n",
            "- mual: 102 kali\n",
            "- lemes: 91 kali\n",
            "- flu: 62 kali\n",
            "- muntah: 60 kali\n",
            "- sakitkepala: 59 kali\n",
            "- demamtinggi: 58 kali\n",
            "- pusing: 46 kali\n",
            "- shock: 27 kali\n",
            "- pilek: 26 kali\n",
            "- pingsan: 26 kali\n",
            "- mimisan: 25 kali\n",
            "- trombositturun: 20 kali\n",
            "- ruam: 19 kali\n",
            "- nyeriotot: 17 kali\n",
            "- lemas: 9 kali\n",
            "- sakittenggorokan: 9 kali\n",
            "- dehidrasi: 7 kali\n",
            "- muntahterus: 5 kali\n"
          ]
        },
        {
          "output_type": "stream",
          "name": "stderr",
          "text": [
            "<ipython-input-10-3129c7ac312b>:155: FutureWarning: \n",
            "\n",
            "Passing `palette` without assigning `hue` is deprecated and will be removed in v0.14.0. Assign the `y` variable to `hue` and set `legend=False` for the same effect.\n",
            "\n",
            "  sns.barplot(x=list(counts), y=list(labels), palette='mako')\n"
          ]
        },
        {
          "output_type": "display_data",
          "data": {
            "text/plain": [
              "<Figure size 1200x600 with 1 Axes>"
            ],
            "image/png": "[encoded data removed]"
          },
          "metadata": {}
        },
        {
          "output_type": "stream",
          "name": "stdout",
          "text": [
            "\n",
            "Contoh tweet yang mengandung gejala:\n",
            "\n",
            "Tweet ke-0:\n",
            "Text (cleaned_lower): tipes mending ke dokter kalau sakit biasa minum obat pasti sembuh pengalaman kemarin bgt demam trus biasa minum panadol obat demam pasti sembuh ini engga langsung ke dokter trus cek ternyata kena dbd lewat hari ud ke isekai\n",
            "Gejala ditemukan: ['demam']\n",
            "\n",
            "Tweet ke-5:\n",
            "Text (cleaned_lower): terhadap demam berdarah dengue dbd yang bisa dilakukan sebelum dibawa ke rumah sakit apakah sobat mempunyai pengalaman tentang dbd yuuk tulis pengalaman mu di kolom komentar tetap harus diingat ya jangan lupa melakukan pemberantasan sarang nyamuk dan jentik seminggu\n",
            "Gejala ditemukan: ['demam']\n",
            "\n",
            "Tweet ke-6:\n",
            "Text (cleaned_lower): kok gw pusing lg yah perasaan gw td udah smbuh bahkan td gw udh suuzon jgan jgan ini dokternya bilang gw dbd supaya gw bangkrut krna beli obat mahal doang tp kayanya gw beneran sakit deh ah benci bgt\n",
            "Gejala ditemukan: ['pusing']\n",
            "\n",
            "Tweet ke-10:\n",
            "Text (cleaned_lower): berdasarkan pengalaman aku dulu pernah lagi sakit demam trs pas liat kaki muncul bintik merah banyak banget ternyata pas di cek aku kena dbd tipes dan akhirnya aku di rawat di rs banyak istirahat sama makan nya jgn telat ya nder get well soon\n",
            "Gejala ditemukan: ['demam']\n",
            "\n",
            "Tweet ke-11:\n",
            "Text (cleaned_lower): waktu itu gua dbd tipes trombosit naik turun sembuhnya itu karna mam nasi padang pake tunjang anjir bener bener hari itu mam nasi padang lusanya gua keluar dari rs wkwk sampe orng rumah kalo gua lagi sakit pada khatam biar sembuh dikasi makanan kesukaan gua aja\n",
            "Gejala ditemukan: ['trombosit']\n",
            "\n",
            "Data hasil filter gejala disimpan ke file: filtered_tweets_with_symptoms_1Juni2025.xlsx\n",
            "Data hasil filter tanpa gejala disimpan ke file: filtered_tweets_without_symptoms.xlsx\n"
          ]
        },
        {
          "output_type": "display_data",
          "data": {
            "text/plain": [
              "<IPython.core.display.Javascript object>"
            ],
            "application/javascript": [
              "\n",
              "    async function download(id, filename, size) {\n",
              "      if (!google.colab.kernel.accessAllowed) {\n",
              "        return;\n",
              "      }\n",
              "      const div = document.createElement('div');\n",
              "      const label = document.createElement('label');\n",
              "      label.textContent = `Downloading \"${filename}\": `;\n",
              "      div.appendChild(label);\n",
              "      const progress = document.createElement('progress');\n",
              "      progress.max = size;\n",
              "      div.appendChild(progress);\n",
              "      document.body.appendChild(div);\n",
              "\n",
              "      const buffers = [];\n",
              "      let downloaded = 0;\n",
              "\n",
              "      const channel = await google.colab.kernel.comms.open(id);\n",
              "      // Send a message to notify the kernel that we're ready.\n",
              "      channel.send({})\n",
              "\n",
              "      for await (const message of channel.messages) {\n",
              "        // Send a message to notify the kernel that we're ready.\n",
              "        channel.send({})\n",
              "        if (message.buffers) {\n",
              "          for (const buffer of message.buffers) {\n",
              "            buffers.push(buffer);\n",
              "            downloaded += buffer.byteLength;\n",
              "            progress.value = downloaded;\n",
              "          }\n",
              "        }\n",
              "      }\n",
              "      const blob = new Blob(buffers, {type: 'application/binary'});\n",
              "      const a = document.createElement('a');\n",
              "      a.href = window.URL.createObjectURL(blob);\n",
              "      a.download = filename;\n",
              "      div.appendChild(a);\n",
              "      a.click();\n",
              "      div.remove();\n",
              "    }\n",
              "  "
            ]
          },
          "metadata": {}
        },
        {
          "output_type": "display_data",
          "data": {
            "text/plain": [
              "<IPython.core.display.Javascript object>"
            ],
            "application/javascript": [
              "download(\"download_f84a8a98-78f9-4f93-bbef-3e6d2db19b15\", \"filtered_tweets_with_symptoms_1Juni2025.xlsx\", 442302)"
            ]
          },
          "metadata": {}
        },
        {
          "output_type": "display_data",
          "data": {
            "text/plain": [
              "<IPython.core.display.Javascript object>"
            ],
            "application/javascript": [
              "\n",
              "    async function download(id, filename, size) {\n",
              "      if (!google.colab.kernel.accessAllowed) {\n",
              "        return;\n",
              "      }\n",
              "      const div = document.createElement('div');\n",
              "      const label = document.createElement('label');\n",
              "      label.textContent = `Downloading \"${filename}\": `;\n",
              "      div.appendChild(label);\n",
              "      const progress = document.createElement('progress');\n",
              "      progress.max = size;\n",
              "      div.appendChild(progress);\n",
              "      document.body.appendChild(div);\n",
              "\n",
              "      const buffers = [];\n",
              "      let downloaded = 0;\n",
              "\n",
              "      const channel = await google.colab.kernel.comms.open(id);\n",
              "      // Send a message to notify the kernel that we're ready.\n",
              "      channel.send({})\n",
              "\n",
              "      for await (const message of channel.messages) {\n",
              "        // Send a message to notify the kernel that we're ready.\n",
              "        channel.send({})\n",
              "        if (message.buffers) {\n",
              "          for (const buffer of message.buffers) {\n",
              "            buffers.push(buffer);\n",
              "            downloaded += buffer.byteLength;\n",
              "            progress.value = downloaded;\n",
              "          }\n",
              "        }\n",
              "      }\n",
              "      const blob = new Blob(buffers, {type: 'application/binary'});\n",
              "      const a = document.createElement('a');\n",
              "      a.href = window.URL.createObjectURL(blob);\n",
              "      a.download = filename;\n",
              "      div.appendChild(a);\n",
              "      a.click();\n",
              "      div.remove();\n",
              "    }\n",
              "  "
            ]
          },
          "metadata": {}
        },
        {
          "output_type": "display_data",
          "data": {
            "text/plain": [
              "<IPython.core.display.Javascript object>"
            ],
            "application/javascript": [
              "download(\"download_5ab4958e-7e5e-49bb-a855-808fa7223919\", \"filtered_tweets_without_symptoms.xlsx\", 681320)"
            ]
          },
          "metadata": {}
        }
      ]
    },
    {
      "cell_type": "code",
      "source": [],
      "metadata": {
        "id": "pNrGFbMhK0P4"
      },
      "execution_count": null,
      "outputs": []
    }
  ]
}